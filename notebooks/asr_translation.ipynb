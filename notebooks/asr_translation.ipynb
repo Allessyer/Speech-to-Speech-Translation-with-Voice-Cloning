{
  "cells": [
    {
      "cell_type": "markdown",
      "metadata": {
        "id": "jvh3DeuzmWdN"
      },
      "source": [
        "# downloads"
      ]
    },
    {
      "cell_type": "code",
      "execution_count": null,
      "metadata": {
        "id": "GuGdqY3EjjlB"
      },
      "outputs": [],
      "source": [
        "!gdown 1Qqi4O6BfSAjx_t1bQ-OmiSo4ZRNa6Qq9 # task_record.wav"
      ]
    },
    {
      "cell_type": "code",
      "execution_count": null,
      "metadata": {
        "id": "ZAW0SyxGmS1C"
      },
      "outputs": [],
      "source": [
        "!wget https://github.com/tsurumeso/vocal-remover/releases/download/v5.0.4/vocal-remover-v5.0.4.zip\n",
        "!unzip vocal-remover-v5.0.4.zip"
      ]
    },
    {
      "cell_type": "code",
      "execution_count": null,
      "metadata": {
        "id": "oyfcYMGjmfrC"
      },
      "outputs": [],
      "source": [
        "cd vocal-remover/"
      ]
    },
    {
      "cell_type": "code",
      "execution_count": null,
      "metadata": {
        "id": "ud18R-4ZmhkV"
      },
      "outputs": [],
      "source": [
        "!pip install -r requirements.txt\n",
        "!pip install --upgrade librosa\n",
        "!pip install resampy"
      ]
    },
    {
      "cell_type": "code",
      "execution_count": null,
      "metadata": {
        "id": "EFpwbalinLz3"
      },
      "outputs": [],
      "source": [
        "cd ../"
      ]
    },
    {
      "cell_type": "code",
      "execution_count": null,
      "metadata": {
        "id": "SGIjz5Kyny8H"
      },
      "outputs": [],
      "source": [
        "!mkdir outputs"
      ]
    },
    {
      "cell_type": "code",
      "execution_count": null,
      "metadata": {
        "id": "Qi6DQ4oRjPSl"
      },
      "outputs": [],
      "source": [
        "!pip install transformers\n",
        "!pip install torchaudio\n",
        "!pip install razdel\n",
        "!pip install transformers[sentencepiece]\n",
        "!pip install sacremoses"
      ]
    },
    {
      "cell_type": "code",
      "execution_count": null,
      "metadata": {
        "id": "2386Yg1RvXp7"
      },
      "outputs": [],
      "source": [
        "!pip install -q torchaudio"
      ]
    },
    {
      "cell_type": "code",
      "execution_count": null,
      "metadata": {
        "id": "UDJ3atbFw_5h"
      },
      "outputs": [],
      "source": [
        "!pip3 install ffmpeg-normalize"
      ]
    },
    {
      "cell_type": "markdown",
      "metadata": {
        "id": "JaRKs3BLmpC8"
      },
      "source": [
        "# library"
      ]
    },
    {
      "cell_type": "code",
      "execution_count": null,
      "metadata": {
        "id": "_R9SvJaSmrfh"
      },
      "outputs": [],
      "source": [
        "import torch\n",
        "import torchaudio\n",
        "from transformers import pipeline\n",
        "import pickle\n",
        "from razdel import sentenize\n",
        "from IPython.display import Audio\n",
        "\n",
        "device = \"cuda:0\" if torch.cuda.is_available() else \"cpu\""
      ]
    },
    {
      "cell_type": "markdown",
      "metadata": {
        "id": "C_cTeXIFnCT4"
      },
      "source": [
        "# Main pipeline"
      ]
    },
    {
      "cell_type": "markdown",
      "metadata": {
        "id": "vKF_XvTenFDq"
      },
      "source": [
        "## Music Voice Separator"
      ]
    },
    {
      "cell_type": "code",
      "execution_count": null,
      "metadata": {
        "id": "cBlPR0m-nKhY"
      },
      "outputs": [],
      "source": [
        "cd vocal-remover/"
      ]
    },
    {
      "cell_type": "code",
      "execution_count": null,
      "metadata": {
        "id": "W7PdtR7MnHG7"
      },
      "outputs": [],
      "source": [
        "!python inference.py --input /content/task_record.wav"
      ]
    },
    {
      "cell_type": "code",
      "execution_count": null,
      "metadata": {
        "id": "a1jyV1CtoOj5"
      },
      "outputs": [],
      "source": [
        "path2res = \"/content/outputs\"\n",
        "!mv task_record_Instruments.wav $path2res\n",
        "!mv task_record_Vocals.wav $path2res"
      ]
    },
    {
      "cell_type": "code",
      "execution_count": null,
      "metadata": {
        "id": "z-UWxmkKoamk"
      },
      "outputs": [],
      "source": [
        "cd ../"
      ]
    },
    {
      "cell_type": "markdown",
      "metadata": {
        "id": "HEUCIz5XvApM"
      },
      "source": [
        "## Preprocessing"
      ]
    },
    {
      "cell_type": "markdown",
      "metadata": {
        "id": "muQs4lDLvKEf"
      },
      "source": [
        "Remove silence"
      ]
    },
    {
      "cell_type": "code",
      "execution_count": null,
      "metadata": {
        "id": "MImVudpuvEt-"
      },
      "outputs": [],
      "source": [
        "!ffmpeg -i /content/outputs/task_record_Vocals.wav -af silenceremove=1:0:-50dB /content/outputs/vocal_silence.wav"
      ]
    },
    {
      "cell_type": "markdown",
      "metadata": {
        "id": "TJhwOu6Vw1uX"
      },
      "source": [
        "normalize with ffmpeg-normalize: https://github.com/slhck/ffmpeg-normalize"
      ]
    },
    {
      "cell_type": "code",
      "execution_count": null,
      "metadata": {
        "id": "i5R1L_6iw4FL"
      },
      "outputs": [],
      "source": [
        "!ffmpeg-normalize /content/outputs/vocal_silence.wav -o /content/outputs/vocal_silence_normalized.wav"
      ]
    },
    {
      "cell_type": "markdown",
      "metadata": {
        "id": "SqG8Jtd5vMM-"
      },
      "source": [
        "silero vad"
      ]
    },
    {
      "cell_type": "code",
      "execution_count": null,
      "metadata": {
        "id": "zy7opPGevTw1"
      },
      "outputs": [],
      "source": [
        "SAMPLING_RATE = 16000\n",
        "torch.set_num_threads(1)\n",
        "\n",
        "USE_ONNX = False # change this to True if you want to test onnx model\n",
        "if USE_ONNX:\n",
        "    !pip install -q onnxruntime\n",
        "\n",
        "model, utils = torch.hub.load(repo_or_dir='snakers4/silero-vad',\n",
        "                              model='silero_vad',\n",
        "                              force_reload=True,\n",
        "                              onnx=USE_ONNX)\n",
        "\n",
        "(get_speech_timestamps,\n",
        " save_audio,\n",
        " read_audio,\n",
        " VADIterator,\n",
        " collect_chunks) = utils"
      ]
    },
    {
      "cell_type": "code",
      "execution_count": null,
      "metadata": {
        "id": "pVMD3nlivlVO"
      },
      "outputs": [],
      "source": [
        "path2vocal = \"/content/outputs/vocal_silence_normalized.wav\"\n",
        "wav = read_audio(path2vocal, sampling_rate=SAMPLING_RATE)\n",
        "# get speech timestamps from full audio file\n",
        "speech_timestamps = get_speech_timestamps(wav, model, sampling_rate=SAMPLING_RATE)\n",
        "\n",
        "# merge all speech chunks to one audio\n",
        "save_audio('/content/outputs/vocal_silence_normalized_vad.wav',\n",
        "           collect_chunks(speech_timestamps, wav), sampling_rate=SAMPLING_RATE)\n",
        "Audio('/content/outputs/vocal_silence_normalized_vad.wav')"
      ]
    },
    {
      "cell_type": "markdown",
      "metadata": {
        "id": "VfdSv9HSnNrD"
      },
      "source": [
        "## ASR"
      ]
    },
    {
      "cell_type": "code",
      "execution_count": null,
      "metadata": {
        "id": "IaPXaUzInYi-"
      },
      "outputs": [],
      "source": [
        "path2data = \"/content/outputs/vocal_silence_normalized_vad.wav\"\n",
        "\n",
        "signal, sample_rate = torchaudio.load(path2data)\n",
        "# stereo --> mono\n",
        "signal = torch.mean(signal, dim=0, keepdim=True)\n",
        "# sr = 48000 --> 16000\n",
        "default_sample_rate = 16000\n",
        "resampler = torchaudio.transforms.Resample(sample_rate, default_sample_rate)\n",
        "signal = resampler(signal)\n",
        "signal = signal.numpy().squeeze()"
      ]
    },
    {
      "cell_type": "code",
      "execution_count": null,
      "metadata": {
        "id": "xFtZvmWgj7s0"
      },
      "outputs": [],
      "source": [
        "pipe = pipeline(\n",
        "    \"automatic-speech-recognition\", model=\"openai/whisper-medium\", device=device\n",
        ")\n",
        "\n",
        "transcription_whisper_medium = pipe(\n",
        "    signal,\n",
        "    max_new_tokens=256,\n",
        "    generate_kwargs={\"task\": \"transcribe\", \"language\":\"ru\"},\n",
        "    chunk_length_s=30,\n",
        "    batch_size=8,\n",
        "    return_timestamps=True,\n",
        ")[\"chunks\"]"
      ]
    },
    {
      "cell_type": "code",
      "execution_count": null,
      "metadata": {
        "id": "_wx08h__kGpG"
      },
      "outputs": [],
      "source": [
        "text = ''\n",
        "for chunk in transcription_whisper_medium:\n",
        "  text += chunk['text']"
      ]
    },
    {
      "cell_type": "code",
      "execution_count": null,
      "metadata": {
        "id": "IL9fQI98kM0g"
      },
      "outputs": [],
      "source": [
        "sentences = [substring.text for substring in list(sentenize(text))]"
      ]
    },
    {
      "cell_type": "code",
      "source": [
        "# save it\n",
        "\n",
        "path = \"/content/outputs\"\n",
        "with open(f'{path}/asr_result_sentences.pkl', 'wb') as f:\n",
        "    pickle.dump(sentences, f)\n",
        "\n",
        "with open(f'{path}/asr_result_text.pkl', 'wb') as f:\n",
        "    pickle.dump(text, f)"
      ],
      "metadata": {
        "id": "A3dM_Ufs5Jbj"
      },
      "execution_count": null,
      "outputs": []
    },
    {
      "cell_type": "code",
      "source": [
        "text"
      ],
      "metadata": {
        "id": "SR_yAukr6L-4"
      },
      "execution_count": null,
      "outputs": []
    },
    {
      "cell_type": "markdown",
      "metadata": {
        "id": "8Zp-aM02kkAH"
      },
      "source": [
        "## Translation"
      ]
    },
    {
      "cell_type": "code",
      "execution_count": null,
      "metadata": {
        "id": "jTzmfPWRkoug"
      },
      "outputs": [],
      "source": [
        "model_checkpoint = \"Helsinki-NLP/opus-mt-ru-en\"\n",
        "translator = pipeline(\"translation\", model=model_checkpoint)"
      ]
    },
    {
      "cell_type": "code",
      "execution_count": null,
      "metadata": {
        "id": "4Kql9YwuktdN"
      },
      "outputs": [],
      "source": [
        "translated_sentences = [translator(sentence)[0]['translation_text'] for sentence in sentences]"
      ]
    },
    {
      "cell_type": "code",
      "execution_count": null,
      "metadata": {
        "id": "i7ACxqym3rPx"
      },
      "outputs": [],
      "source": [
        "whole_english_text = ''\n",
        "\n",
        "for sentence in translated_sentences:\n",
        "  whole_english_text += sentence"
      ]
    },
    {
      "cell_type": "code",
      "execution_count": null,
      "metadata": {
        "id": "fYhvQtex3_MP"
      },
      "outputs": [],
      "source": [
        "# save it\n",
        "path = \"/content/outputs\"\n",
        "with open(f'{path}/translation_result_sentences.pkl', 'wb') as f:\n",
        "    pickle.dump(translated_sentences, f)\n",
        "\n",
        "with open(f'{path}/translation_result_text.pkl', 'wb') as f:\n",
        "    pickle.dump(whole_english_text, f)"
      ]
    }
  ],
  "metadata": {
    "accelerator": "GPU",
    "colab": {
      "collapsed_sections": [
        "jvh3DeuzmWdN",
        "JaRKs3BLmpC8",
        "vKF_XvTenFDq",
        "HEUCIz5XvApM",
        "VfdSv9HSnNrD",
        "8Zp-aM02kkAH"
      ],
      "provenance": []
    },
    "kernelspec": {
      "display_name": "Python 3",
      "name": "python3"
    },
    "language_info": {
      "name": "python"
    }
  },
  "nbformat": 4,
  "nbformat_minor": 0
}